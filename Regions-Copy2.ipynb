{
 "cells": [
  {
   "cell_type": "code",
   "execution_count": 1,
   "id": "1fe58560",
   "metadata": {},
   "outputs": [],
   "source": [
    "import re\n",
    "import pandas as pd\n",
    "import numpy as np\n",
    "import seaborn as sns"
   ]
  },
  {
   "cell_type": "code",
   "execution_count": 2,
   "id": "fbfef47e",
   "metadata": {},
   "outputs": [
    {
     "name": "stdout",
     "output_type": "stream",
     "text": [
      "C:\\Users\\Борис\\Documents\\GitHub\\Regions\\2020 (№ 68)\n"
     ]
    }
   ],
   "source": [
    "%cd 2020 (№ 68)"
   ]
  },
  {
   "cell_type": "code",
   "execution_count": 3,
   "id": "3686f678",
   "metadata": {},
   "outputs": [],
   "source": [
    "data_build = pd.read_excel(r'Объем жилищного строительства.xls', index_col=0,  header= 3 )"
   ]
  },
  {
   "cell_type": "code",
   "execution_count": 4,
   "id": "0bd8b3e2",
   "metadata": {},
   "outputs": [],
   "source": [
    "data_build.rename(columns={'Unnamed: 1': 'Объем жилищного строительства 2020, млн',\n",
    "                           data_build.columns[1]: 'Ввод жилья в МКД 2020, млн',\n",
    "                  'ввод жилья, построенного населением':'Ввод жилья населением 2020, млн'}, inplace=True)"
   ]
  },
  {
   "cell_type": "code",
   "execution_count": 5,
   "id": "6e242c44",
   "metadata": {},
   "outputs": [],
   "source": [
    "data_build = data_build.dropna()"
   ]
  },
  {
   "cell_type": "code",
   "execution_count": 6,
   "id": "c209145f",
   "metadata": {},
   "outputs": [
    {
     "data": {
      "text/html": [
       "<div>\n",
       "<style scoped>\n",
       "    .dataframe tbody tr th:only-of-type {\n",
       "        vertical-align: middle;\n",
       "    }\n",
       "\n",
       "    .dataframe tbody tr th {\n",
       "        vertical-align: top;\n",
       "    }\n",
       "\n",
       "    .dataframe thead th {\n",
       "        text-align: right;\n",
       "    }\n",
       "</style>\n",
       "<table border=\"1\" class=\"dataframe\">\n",
       "  <thead>\n",
       "    <tr style=\"text-align: right;\">\n",
       "      <th></th>\n",
       "      <th>Объем жилищного строительства 2020, млн</th>\n",
       "      <th>Ввод жилья в МКД 2020, млн</th>\n",
       "      <th>Ввод жилья населением 2020, млн</th>\n",
       "    </tr>\n",
       "  </thead>\n",
       "  <tbody>\n",
       "    <tr>\n",
       "      <th>Российская Федерация</th>\n",
       "      <td>82.1845</td>\n",
       "      <td>42.3827</td>\n",
       "      <td>39.8018</td>\n",
       "    </tr>\n",
       "    <tr>\n",
       "      <th>Центральный федеральный округ</th>\n",
       "      <td>25.5333</td>\n",
       "      <td>13.4799</td>\n",
       "      <td>12.0534</td>\n",
       "    </tr>\n",
       "    <tr>\n",
       "      <th>Белгородская область</th>\n",
       "      <td>1.1486</td>\n",
       "      <td>0.2136</td>\n",
       "      <td>0.935</td>\n",
       "    </tr>\n",
       "  </tbody>\n",
       "</table>\n",
       "</div>"
      ],
      "text/plain": [
       "                               Объем жилищного строительства 2020, млн  \\\n",
       "Российская Федерация                                           82.1845   \n",
       "Центральный федеральный округ                                  25.5333   \n",
       "Белгородская область                                            1.1486   \n",
       "\n",
       "                              Ввод жилья в МКД 2020, млн  \\\n",
       "Российская Федерация                             42.3827   \n",
       "Центральный федеральный округ                    13.4799   \n",
       "Белгородская область                              0.2136   \n",
       "\n",
       "                              Ввод жилья населением 2020, млн  \n",
       "Российская Федерация                                  39.8018  \n",
       "Центральный федеральный округ                         12.0534  \n",
       "Белгородская область                                    0.935  "
      ]
     },
     "execution_count": 6,
     "metadata": {},
     "output_type": "execute_result"
    }
   ],
   "source": [
    "data_build.head(3)"
   ]
  },
  {
   "cell_type": "code",
   "execution_count": 7,
   "id": "c7a3f5e3",
   "metadata": {},
   "outputs": [],
   "source": [
    "mask = [*map(lambda x: x[-4:] not in ['круг','ация'] , data_build.index)]\n"
   ]
  },
  {
   "cell_type": "code",
   "execution_count": 8,
   "id": "c5cc552c",
   "metadata": {},
   "outputs": [],
   "source": [
    "data_build = data_build[mask]\n"
   ]
  },
  {
   "cell_type": "code",
   "execution_count": 9,
   "id": "54953c98",
   "metadata": {},
   "outputs": [
    {
     "data": {
      "text/html": [
       "<div>\n",
       "<style scoped>\n",
       "    .dataframe tbody tr th:only-of-type {\n",
       "        vertical-align: middle;\n",
       "    }\n",
       "\n",
       "    .dataframe tbody tr th {\n",
       "        vertical-align: top;\n",
       "    }\n",
       "\n",
       "    .dataframe thead th {\n",
       "        text-align: right;\n",
       "    }\n",
       "</style>\n",
       "<table border=\"1\" class=\"dataframe\">\n",
       "  <thead>\n",
       "    <tr style=\"text-align: right;\">\n",
       "      <th></th>\n",
       "      <th>Объем жилищного строительства 2020, млн</th>\n",
       "      <th>Ввод жилья в МКД 2020, млн</th>\n",
       "      <th>Ввод жилья населением 2020, млн</th>\n",
       "    </tr>\n",
       "  </thead>\n",
       "  <tbody>\n",
       "    <tr>\n",
       "      <th>Белгородская область</th>\n",
       "      <td>1.1486</td>\n",
       "      <td>0.2136</td>\n",
       "      <td>0.935</td>\n",
       "    </tr>\n",
       "    <tr>\n",
       "      <th>Брянская область</th>\n",
       "      <td>0.4267</td>\n",
       "      <td>0.2515</td>\n",
       "      <td>0.1752</td>\n",
       "    </tr>\n",
       "    <tr>\n",
       "      <th>Владимирская область</th>\n",
       "      <td>0.7262</td>\n",
       "      <td>0.2454</td>\n",
       "      <td>0.4809</td>\n",
       "    </tr>\n",
       "  </tbody>\n",
       "</table>\n",
       "</div>"
      ],
      "text/plain": [
       "                      Объем жилищного строительства 2020, млн  \\\n",
       "Белгородская область                                   1.1486   \n",
       "Брянская область                                       0.4267   \n",
       "Владимирская область                                   0.7262   \n",
       "\n",
       "                     Ввод жилья в МКД 2020, млн  \\\n",
       "Белгородская область                     0.2136   \n",
       "Брянская область                         0.2515   \n",
       "Владимирская область                     0.2454   \n",
       "\n",
       "                     Ввод жилья населением 2020, млн  \n",
       "Белгородская область                           0.935  \n",
       "Брянская область                              0.1752  \n",
       "Владимирская область                          0.4809  "
      ]
     },
     "execution_count": 9,
     "metadata": {},
     "output_type": "execute_result"
    }
   ],
   "source": [
    "data_build.head(3)"
   ]
  },
  {
   "cell_type": "code",
   "execution_count": 10,
   "id": "259162a8",
   "metadata": {},
   "outputs": [],
   "source": [
    "data_life = pd.read_excel(r'ОПЖ_предв.xlsx', index_col=0,  header= 2)"
   ]
  },
  {
   "cell_type": "code",
   "execution_count": 11,
   "id": "ee74cfa7",
   "metadata": {},
   "outputs": [
    {
     "data": {
      "text/html": [
       "<div>\n",
       "<style scoped>\n",
       "    .dataframe tbody tr th:only-of-type {\n",
       "        vertical-align: middle;\n",
       "    }\n",
       "\n",
       "    .dataframe tbody tr th {\n",
       "        vertical-align: top;\n",
       "    }\n",
       "\n",
       "    .dataframe thead th {\n",
       "        text-align: right;\n",
       "    }\n",
       "</style>\n",
       "<table border=\"1\" class=\"dataframe\">\n",
       "  <thead>\n",
       "    <tr style=\"text-align: right;\">\n",
       "      <th></th>\n",
       "      <th>Число\\nлет</th>\n",
       "    </tr>\n",
       "  </thead>\n",
       "  <tbody>\n",
       "    <tr>\n",
       "      <th>Белгородская область</th>\n",
       "      <td>72.4</td>\n",
       "    </tr>\n",
       "    <tr>\n",
       "      <th>Брянская область</th>\n",
       "      <td>70.6</td>\n",
       "    </tr>\n",
       "    <tr>\n",
       "      <th>Владимирская область</th>\n",
       "      <td>70.0</td>\n",
       "    </tr>\n",
       "  </tbody>\n",
       "</table>\n",
       "</div>"
      ],
      "text/plain": [
       "                      Число\\nлет\n",
       "Белгородская область        72.4\n",
       "Брянская область            70.6\n",
       "Владимирская область        70.0"
      ]
     },
     "execution_count": 11,
     "metadata": {},
     "output_type": "execute_result"
    }
   ],
   "source": [
    "data_life = data_life.dropna()\n",
    "data_life = data_life[mask]\n",
    "data_life.head(3)"
   ]
  },
  {
   "cell_type": "code",
   "execution_count": 12,
   "id": "8b452c1c",
   "metadata": {},
   "outputs": [],
   "source": [
    "data_life.rename(columns={'Число\\nлет':'ОПЖ, лет'}, inplace=True)"
   ]
  },
  {
   "cell_type": "code",
   "execution_count": 13,
   "id": "e35dbcff",
   "metadata": {},
   "outputs": [
    {
     "data": {
      "text/html": [
       "<div>\n",
       "<style scoped>\n",
       "    .dataframe tbody tr th:only-of-type {\n",
       "        vertical-align: middle;\n",
       "    }\n",
       "\n",
       "    .dataframe tbody tr th {\n",
       "        vertical-align: top;\n",
       "    }\n",
       "\n",
       "    .dataframe thead th {\n",
       "        text-align: right;\n",
       "    }\n",
       "</style>\n",
       "<table border=\"1\" class=\"dataframe\">\n",
       "  <thead>\n",
       "    <tr style=\"text-align: right;\">\n",
       "      <th></th>\n",
       "      <th>ОПЖ, лет</th>\n",
       "    </tr>\n",
       "  </thead>\n",
       "  <tbody>\n",
       "    <tr>\n",
       "      <th>Белгородская область</th>\n",
       "      <td>72.4</td>\n",
       "    </tr>\n",
       "  </tbody>\n",
       "</table>\n",
       "</div>"
      ],
      "text/plain": [
       "                      ОПЖ, лет\n",
       "Белгородская область      72.4"
      ]
     },
     "execution_count": 13,
     "metadata": {},
     "output_type": "execute_result"
    }
   ],
   "source": [
    "data_life.head(1)"
   ]
  },
  {
   "cell_type": "code",
   "execution_count": 14,
   "id": "ec8a00dd",
   "metadata": {},
   "outputs": [],
   "source": [
    "data_salary = pd.read_excel(r'Реал. среднем. з.п..xlsx', index_col=0,  header= 3)"
   ]
  },
  {
   "cell_type": "code",
   "execution_count": 15,
   "id": "5c6151ef",
   "metadata": {},
   "outputs": [
    {
     "data": {
      "text/html": [
       "<div>\n",
       "<style scoped>\n",
       "    .dataframe tbody tr th:only-of-type {\n",
       "        vertical-align: middle;\n",
       "    }\n",
       "\n",
       "    .dataframe tbody tr th {\n",
       "        vertical-align: top;\n",
       "    }\n",
       "\n",
       "    .dataframe thead th {\n",
       "        text-align: right;\n",
       "    }\n",
       "</style>\n",
       "<table border=\"1\" class=\"dataframe\">\n",
       "  <thead>\n",
       "    <tr style=\"text-align: right;\">\n",
       "      <th></th>\n",
       "      <th>2020 г. в % к 2019 г.</th>\n",
       "      <th>Unnamed: 2</th>\n",
       "    </tr>\n",
       "    <tr>\n",
       "      <th>Наименование</th>\n",
       "      <th></th>\n",
       "      <th></th>\n",
       "    </tr>\n",
       "  </thead>\n",
       "  <tbody>\n",
       "    <tr>\n",
       "      <th>Российская Федерация</th>\n",
       "      <td>102.5</td>\n",
       "      <td>NaN</td>\n",
       "    </tr>\n",
       "    <tr>\n",
       "      <th>Центральный федеральный округ</th>\n",
       "      <td>103.4</td>\n",
       "      <td>NaN</td>\n",
       "    </tr>\n",
       "    <tr>\n",
       "      <th>Белгородская область</th>\n",
       "      <td>104.5</td>\n",
       "      <td>NaN</td>\n",
       "    </tr>\n",
       "  </tbody>\n",
       "</table>\n",
       "</div>"
      ],
      "text/plain": [
       "                               2020 г. в % к 2019 г.  Unnamed: 2\n",
       "Наименование                                                    \n",
       "Российская Федерация                           102.5         NaN\n",
       "Центральный федеральный округ                  103.4         NaN\n",
       "Белгородская область                           104.5         NaN"
      ]
     },
     "execution_count": 15,
     "metadata": {},
     "output_type": "execute_result"
    }
   ],
   "source": [
    "data_salary.head(3)"
   ]
  },
  {
   "cell_type": "code",
   "execution_count": 16,
   "id": "b0458d7f",
   "metadata": {},
   "outputs": [
    {
     "data": {
      "text/html": [
       "<div>\n",
       "<style scoped>\n",
       "    .dataframe tbody tr th:only-of-type {\n",
       "        vertical-align: middle;\n",
       "    }\n",
       "\n",
       "    .dataframe tbody tr th {\n",
       "        vertical-align: top;\n",
       "    }\n",
       "\n",
       "    .dataframe thead th {\n",
       "        text-align: right;\n",
       "    }\n",
       "</style>\n",
       "<table border=\"1\" class=\"dataframe\">\n",
       "  <thead>\n",
       "    <tr style=\"text-align: right;\">\n",
       "      <th></th>\n",
       "      <th>2020 г. в % к 2019 г.</th>\n",
       "    </tr>\n",
       "    <tr>\n",
       "      <th>Наименование</th>\n",
       "      <th></th>\n",
       "    </tr>\n",
       "  </thead>\n",
       "  <tbody>\n",
       "    <tr>\n",
       "      <th>Белгородская область</th>\n",
       "      <td>104.5</td>\n",
       "    </tr>\n",
       "    <tr>\n",
       "      <th>Брянская область</th>\n",
       "      <td>102.2</td>\n",
       "    </tr>\n",
       "    <tr>\n",
       "      <th>Владимирская область</th>\n",
       "      <td>102.4</td>\n",
       "    </tr>\n",
       "  </tbody>\n",
       "</table>\n",
       "</div>"
      ],
      "text/plain": [
       "                      2020 г. в % к 2019 г.\n",
       "Наименование                               \n",
       "Белгородская область                  104.5\n",
       "Брянская область                      102.2\n",
       "Владимирская область                  102.4"
      ]
     },
     "execution_count": 16,
     "metadata": {},
     "output_type": "execute_result"
    }
   ],
   "source": [
    "data_salary = data_salary.dropna(axis=1)\n",
    "data_salary = data_salary[mask]\n",
    "data_salary.head(3)"
   ]
  },
  {
   "cell_type": "code",
   "execution_count": 17,
   "id": "94afa670",
   "metadata": {},
   "outputs": [
    {
     "data": {
      "text/plain": [
       "(84, 1)"
      ]
     },
     "execution_count": 17,
     "metadata": {},
     "output_type": "execute_result"
    }
   ],
   "source": [
    "data_salary.shape"
   ]
  },
  {
   "cell_type": "code",
   "execution_count": 18,
   "id": "2f06094c",
   "metadata": {},
   "outputs": [],
   "source": [
    "data_idx = pd.read_excel(r'Индекс роста дохода.xlsx', index_col=0)"
   ]
  },
  {
   "cell_type": "code",
   "execution_count": 19,
   "id": "8659670e",
   "metadata": {},
   "outputs": [],
   "source": [
    "data_idx = data_idx[mask[1:]]"
   ]
  },
  {
   "cell_type": "code",
   "execution_count": 20,
   "id": "6fb5b471",
   "metadata": {},
   "outputs": [],
   "source": [
    "data_idx.rename(columns={data_idx.columns[0]: 'Темп роста денежного дохода, %'}, inplace=True)"
   ]
  },
  {
   "cell_type": "code",
   "execution_count": 21,
   "id": "2362c40a",
   "metadata": {},
   "outputs": [
    {
     "data": {
      "text/html": [
       "<div>\n",
       "<style scoped>\n",
       "    .dataframe tbody tr th:only-of-type {\n",
       "        vertical-align: middle;\n",
       "    }\n",
       "\n",
       "    .dataframe tbody tr th {\n",
       "        vertical-align: top;\n",
       "    }\n",
       "\n",
       "    .dataframe thead th {\n",
       "        text-align: right;\n",
       "    }\n",
       "</style>\n",
       "<table border=\"1\" class=\"dataframe\">\n",
       "  <thead>\n",
       "    <tr style=\"text-align: right;\">\n",
       "      <th></th>\n",
       "      <th>Темп роста денежного дохода, %</th>\n",
       "    </tr>\n",
       "  </thead>\n",
       "  <tbody>\n",
       "    <tr>\n",
       "      <th>Белгородская область</th>\n",
       "      <td>98.4</td>\n",
       "    </tr>\n",
       "    <tr>\n",
       "      <th>Брянская область</th>\n",
       "      <td>95.8</td>\n",
       "    </tr>\n",
       "    <tr>\n",
       "      <th>Владимирская область</th>\n",
       "      <td>98.1</td>\n",
       "    </tr>\n",
       "  </tbody>\n",
       "</table>\n",
       "</div>"
      ],
      "text/plain": [
       "                        Темп роста денежного дохода, %\n",
       "Белгородская область                              98.4\n",
       "Брянская область                                  95.8\n",
       "Владимирская область                              98.1"
      ]
     },
     "execution_count": 21,
     "metadata": {},
     "output_type": "execute_result"
    }
   ],
   "source": [
    "data_idx.head(3)"
   ]
  },
  {
   "cell_type": "code",
   "execution_count": 22,
   "id": "b4bb1e49",
   "metadata": {},
   "outputs": [],
   "source": [
    "data_pov = pd.read_excel(r'Уровень бедности.xlsx', index_col=0,  header= 3)"
   ]
  },
  {
   "cell_type": "code",
   "execution_count": 23,
   "id": "5b783be9",
   "metadata": {},
   "outputs": [
    {
     "data": {
      "text/html": [
       "<div>\n",
       "<style scoped>\n",
       "    .dataframe tbody tr th:only-of-type {\n",
       "        vertical-align: middle;\n",
       "    }\n",
       "\n",
       "    .dataframe tbody tr th {\n",
       "        vertical-align: top;\n",
       "    }\n",
       "\n",
       "    .dataframe thead th {\n",
       "        text-align: right;\n",
       "    }\n",
       "</style>\n",
       "<table border=\"1\" class=\"dataframe\">\n",
       "  <thead>\n",
       "    <tr style=\"text-align: right;\">\n",
       "      <th></th>\n",
       "      <th>2018</th>\n",
       "      <th>20192)</th>\n",
       "      <th>20203)</th>\n",
       "      <th>Unnamed: 4</th>\n",
       "      <th>Unnamed: 5</th>\n",
       "      <th>Unnamed: 6</th>\n",
       "      <th>Unnamed: 7</th>\n",
       "      <th>Unnamed: 8</th>\n",
       "      <th>Unnamed: 9</th>\n",
       "      <th>Unnamed: 10</th>\n",
       "      <th>Unnamed: 11</th>\n",
       "      <th>Unnamed: 12</th>\n",
       "      <th>Unnamed: 13</th>\n",
       "      <th>Unnamed: 14</th>\n",
       "      <th>Unnamed: 15</th>\n",
       "      <th>Unnamed: 16</th>\n",
       "    </tr>\n",
       "  </thead>\n",
       "  <tbody>\n",
       "    <tr>\n",
       "      <th>Российская Федерация</th>\n",
       "      <td>12.6</td>\n",
       "      <td>12.3</td>\n",
       "      <td>12.1</td>\n",
       "      <td>NaN</td>\n",
       "      <td>NaN</td>\n",
       "      <td>NaN</td>\n",
       "      <td>NaN</td>\n",
       "      <td>NaN</td>\n",
       "      <td>NaN</td>\n",
       "      <td>NaN</td>\n",
       "      <td>NaN</td>\n",
       "      <td>NaN</td>\n",
       "      <td>NaN</td>\n",
       "      <td>NaN</td>\n",
       "      <td>NaN</td>\n",
       "      <td>NaN</td>\n",
       "    </tr>\n",
       "    <tr>\n",
       "      <th>Центральный федеральный округ</th>\n",
       "      <td>NaN</td>\n",
       "      <td>NaN</td>\n",
       "      <td>NaN</td>\n",
       "      <td>NaN</td>\n",
       "      <td>NaN</td>\n",
       "      <td>NaN</td>\n",
       "      <td>NaN</td>\n",
       "      <td>NaN</td>\n",
       "      <td>NaN</td>\n",
       "      <td>NaN</td>\n",
       "      <td>NaN</td>\n",
       "      <td>NaN</td>\n",
       "      <td>NaN</td>\n",
       "      <td>NaN</td>\n",
       "      <td>NaN</td>\n",
       "      <td>NaN</td>\n",
       "    </tr>\n",
       "    <tr>\n",
       "      <th>Белгородская область</th>\n",
       "      <td>7.5</td>\n",
       "      <td>7.8</td>\n",
       "      <td>7.2</td>\n",
       "      <td>NaN</td>\n",
       "      <td>NaN</td>\n",
       "      <td>NaN</td>\n",
       "      <td>NaN</td>\n",
       "      <td>NaN</td>\n",
       "      <td>NaN</td>\n",
       "      <td>NaN</td>\n",
       "      <td>NaN</td>\n",
       "      <td>NaN</td>\n",
       "      <td>NaN</td>\n",
       "      <td>NaN</td>\n",
       "      <td>NaN</td>\n",
       "      <td>NaN</td>\n",
       "    </tr>\n",
       "  </tbody>\n",
       "</table>\n",
       "</div>"
      ],
      "text/plain": [
       "                               2018  20192)  20203)  Unnamed: 4  Unnamed: 5  \\\n",
       "Российская Федерация           12.6    12.3    12.1         NaN         NaN   \n",
       "Центральный федеральный округ   NaN     NaN     NaN         NaN         NaN   \n",
       "Белгородская область            7.5     7.8     7.2         NaN         NaN   \n",
       "\n",
       "                               Unnamed: 6  Unnamed: 7  Unnamed: 8  Unnamed: 9  \\\n",
       "Российская Федерация                  NaN         NaN         NaN         NaN   \n",
       "Центральный федеральный округ         NaN         NaN         NaN         NaN   \n",
       "Белгородская область                  NaN         NaN         NaN         NaN   \n",
       "\n",
       "                               Unnamed: 10  Unnamed: 11  Unnamed: 12  \\\n",
       "Российская Федерация                   NaN          NaN          NaN   \n",
       "Центральный федеральный округ          NaN          NaN          NaN   \n",
       "Белгородская область                   NaN          NaN          NaN   \n",
       "\n",
       "                               Unnamed: 13  Unnamed: 14  Unnamed: 15  \\\n",
       "Российская Федерация                   NaN          NaN          NaN   \n",
       "Центральный федеральный округ          NaN          NaN          NaN   \n",
       "Белгородская область                   NaN          NaN          NaN   \n",
       "\n",
       "                               Unnamed: 16  \n",
       "Российская Федерация                   NaN  \n",
       "Центральный федеральный округ          NaN  \n",
       "Белгородская область                   NaN  "
      ]
     },
     "execution_count": 23,
     "metadata": {},
     "output_type": "execute_result"
    }
   ],
   "source": [
    "data_pov.head(3)"
   ]
  },
  {
   "cell_type": "code",
   "execution_count": 24,
   "id": "73bdbdba",
   "metadata": {},
   "outputs": [],
   "source": [
    "data_pov = data_pov.iloc[:-3,:3]"
   ]
  },
  {
   "cell_type": "code",
   "execution_count": 25,
   "id": "6a05f319",
   "metadata": {},
   "outputs": [],
   "source": [
    "data_pov = data_pov[mask]"
   ]
  },
  {
   "cell_type": "code",
   "execution_count": 26,
   "id": "bc1f2d61",
   "metadata": {},
   "outputs": [],
   "source": [
    "data_pov.rename(columns={data_pov.columns[0]: 'Доля бедности 2018,%',\n",
    "                         data_pov.columns[1]: 'Доля бедности 2019,%',\n",
    "                         data_pov.columns[2]: 'Доля бедности 2020,%'}, inplace=True)"
   ]
  },
  {
   "cell_type": "code",
   "execution_count": 27,
   "id": "cb80affc",
   "metadata": {},
   "outputs": [
    {
     "data": {
      "text/html": [
       "<div>\n",
       "<style scoped>\n",
       "    .dataframe tbody tr th:only-of-type {\n",
       "        vertical-align: middle;\n",
       "    }\n",
       "\n",
       "    .dataframe tbody tr th {\n",
       "        vertical-align: top;\n",
       "    }\n",
       "\n",
       "    .dataframe thead th {\n",
       "        text-align: right;\n",
       "    }\n",
       "</style>\n",
       "<table border=\"1\" class=\"dataframe\">\n",
       "  <thead>\n",
       "    <tr style=\"text-align: right;\">\n",
       "      <th></th>\n",
       "      <th>Доля бедности 2018,%</th>\n",
       "      <th>Доля бедности 2019,%</th>\n",
       "      <th>Доля бедности 2020,%</th>\n",
       "    </tr>\n",
       "  </thead>\n",
       "  <tbody>\n",
       "    <tr>\n",
       "      <th>Белгородская область</th>\n",
       "      <td>7.5</td>\n",
       "      <td>7.8</td>\n",
       "      <td>7.2</td>\n",
       "    </tr>\n",
       "    <tr>\n",
       "      <th>Брянская область</th>\n",
       "      <td>13.6</td>\n",
       "      <td>13.8</td>\n",
       "      <td>13.8</td>\n",
       "    </tr>\n",
       "    <tr>\n",
       "      <th>Владимирская область</th>\n",
       "      <td>13.1</td>\n",
       "      <td>12.6</td>\n",
       "      <td>12.5</td>\n",
       "    </tr>\n",
       "  </tbody>\n",
       "</table>\n",
       "</div>"
      ],
      "text/plain": [
       "                      Доля бедности 2018,%  Доля бедности 2019,%  \\\n",
       "Белгородская область                   7.5                   7.8   \n",
       "Брянская область                      13.6                  13.8   \n",
       "Владимирская область                  13.1                  12.6   \n",
       "\n",
       "                      Доля бедности 2020,%  \n",
       "Белгородская область                   7.2  \n",
       "Брянская область                      13.8  \n",
       "Владимирская область                  12.5  "
      ]
     },
     "execution_count": 27,
     "metadata": {},
     "output_type": "execute_result"
    }
   ],
   "source": [
    "data_pov.head(3)"
   ]
  },
  {
   "cell_type": "code",
   "execution_count": 28,
   "id": "79b1eef9",
   "metadata": {},
   "outputs": [],
   "source": [
    "data_am = pd.read_excel(r'Численность населения.xls', index_col=0,  header= 4)"
   ]
  },
  {
   "cell_type": "code",
   "execution_count": 29,
   "id": "3f98767d",
   "metadata": {},
   "outputs": [
    {
     "data": {
      "text/html": [
       "<div>\n",
       "<style scoped>\n",
       "    .dataframe tbody tr th:only-of-type {\n",
       "        vertical-align: middle;\n",
       "    }\n",
       "\n",
       "    .dataframe tbody tr th {\n",
       "        vertical-align: top;\n",
       "    }\n",
       "\n",
       "    .dataframe thead th {\n",
       "        text-align: right;\n",
       "    }\n",
       "</style>\n",
       "<table border=\"1\" class=\"dataframe\">\n",
       "  <thead>\n",
       "    <tr style=\"text-align: right;\">\n",
       "      <th></th>\n",
       "      <th>Население 2020, чел</th>\n",
       "    </tr>\n",
       "  </thead>\n",
       "  <tbody>\n",
       "    <tr>\n",
       "      <th>Российская Федеpация</th>\n",
       "      <td>146171015</td>\n",
       "    </tr>\n",
       "    <tr>\n",
       "      <th>Центральный федеральный округ</th>\n",
       "      <td>39250960</td>\n",
       "    </tr>\n",
       "    <tr>\n",
       "      <th>Белгородская область</th>\n",
       "      <td>1541259</td>\n",
       "    </tr>\n",
       "  </tbody>\n",
       "</table>\n",
       "</div>"
      ],
      "text/plain": [
       "                               Население 2020, чел\n",
       "Российская Федеpация                     146171015\n",
       "Центральный федеральный округ             39250960\n",
       "Белгородская область                       1541259"
      ]
     },
     "execution_count": 29,
     "metadata": {},
     "output_type": "execute_result"
    }
   ],
   "source": [
    "data_am.rename(columns={data_am.columns[0]: 'Население 2020, чел'}, inplace=True)\n",
    "data_am.head(3)"
   ]
  },
  {
   "cell_type": "code",
   "execution_count": 30,
   "id": "dc272621",
   "metadata": {},
   "outputs": [],
   "source": [
    "data_am = data_am[mask]"
   ]
  },
  {
   "cell_type": "code",
   "execution_count": 40,
   "id": "25b89859",
   "metadata": {},
   "outputs": [
    {
     "data": {
      "text/plain": [
       "(84, 1)"
      ]
     },
     "execution_count": 40,
     "metadata": {},
     "output_type": "execute_result"
    }
   ],
   "source": [
    "data_am.shape"
   ]
  },
  {
   "cell_type": "code",
   "execution_count": 58,
   "id": "9aa767cf",
   "metadata": {},
   "outputs": [
    {
     "ename": "AttributeError",
     "evalue": "'DataFrame' object has no attribute 'concat'",
     "output_type": "error",
     "traceback": [
      "\u001b[1;31m---------------------------------------------------------------------------\u001b[0m",
      "\u001b[1;31mAttributeError\u001b[0m                            Traceback (most recent call last)",
      "\u001b[1;32m<ipython-input-58-37d86205f904>\u001b[0m in \u001b[0;36m<module>\u001b[1;34m\u001b[0m\n\u001b[0;32m      1\u001b[0m \u001b[0mdf\u001b[0m \u001b[1;33m=\u001b[0m \u001b[0mdata_am\u001b[0m\u001b[1;33m.\u001b[0m\u001b[0mcopy\u001b[0m\u001b[1;33m(\u001b[0m\u001b[1;33m)\u001b[0m\u001b[1;33m\u001b[0m\u001b[1;33m\u001b[0m\u001b[0m\n\u001b[0;32m      2\u001b[0m \u001b[1;32mfor\u001b[0m \u001b[0mdata\u001b[0m \u001b[1;32min\u001b[0m \u001b[1;33m[\u001b[0m\u001b[0mdata_salary\u001b[0m\u001b[1;33m,\u001b[0m\u001b[0mdata_pov\u001b[0m\u001b[1;33m,\u001b[0m\u001b[0mdata_life\u001b[0m\u001b[1;33m,\u001b[0m \u001b[0mdata_idx\u001b[0m\u001b[1;33m,\u001b[0m \u001b[0mdata_build\u001b[0m\u001b[1;33m]\u001b[0m\u001b[1;33m:\u001b[0m\u001b[1;33m\u001b[0m\u001b[1;33m\u001b[0m\u001b[0m\n\u001b[1;32m----> 3\u001b[1;33m     \u001b[0mdf\u001b[0m\u001b[1;33m.\u001b[0m\u001b[0mconcat\u001b[0m\u001b[1;33m(\u001b[0m\u001b[0mdata\u001b[0m\u001b[1;33m)\u001b[0m\u001b[1;33m\u001b[0m\u001b[1;33m\u001b[0m\u001b[0m\n\u001b[0m",
      "\u001b[1;32mC:\\Anaconda\\lib\\site-packages\\pandas\\core\\generic.py\u001b[0m in \u001b[0;36m__getattr__\u001b[1;34m(self, name)\u001b[0m\n\u001b[0;32m   5463\u001b[0m             \u001b[1;32mif\u001b[0m \u001b[0mself\u001b[0m\u001b[1;33m.\u001b[0m\u001b[0m_info_axis\u001b[0m\u001b[1;33m.\u001b[0m\u001b[0m_can_hold_identifiers_and_holds_name\u001b[0m\u001b[1;33m(\u001b[0m\u001b[0mname\u001b[0m\u001b[1;33m)\u001b[0m\u001b[1;33m:\u001b[0m\u001b[1;33m\u001b[0m\u001b[1;33m\u001b[0m\u001b[0m\n\u001b[0;32m   5464\u001b[0m                 \u001b[1;32mreturn\u001b[0m \u001b[0mself\u001b[0m\u001b[1;33m[\u001b[0m\u001b[0mname\u001b[0m\u001b[1;33m]\u001b[0m\u001b[1;33m\u001b[0m\u001b[1;33m\u001b[0m\u001b[0m\n\u001b[1;32m-> 5465\u001b[1;33m             \u001b[1;32mreturn\u001b[0m \u001b[0mobject\u001b[0m\u001b[1;33m.\u001b[0m\u001b[0m__getattribute__\u001b[0m\u001b[1;33m(\u001b[0m\u001b[0mself\u001b[0m\u001b[1;33m,\u001b[0m \u001b[0mname\u001b[0m\u001b[1;33m)\u001b[0m\u001b[1;33m\u001b[0m\u001b[1;33m\u001b[0m\u001b[0m\n\u001b[0m\u001b[0;32m   5466\u001b[0m \u001b[1;33m\u001b[0m\u001b[0m\n\u001b[0;32m   5467\u001b[0m     \u001b[1;32mdef\u001b[0m \u001b[0m__setattr__\u001b[0m\u001b[1;33m(\u001b[0m\u001b[0mself\u001b[0m\u001b[1;33m,\u001b[0m \u001b[0mname\u001b[0m\u001b[1;33m:\u001b[0m \u001b[0mstr\u001b[0m\u001b[1;33m,\u001b[0m \u001b[0mvalue\u001b[0m\u001b[1;33m)\u001b[0m \u001b[1;33m->\u001b[0m \u001b[1;32mNone\u001b[0m\u001b[1;33m:\u001b[0m\u001b[1;33m\u001b[0m\u001b[1;33m\u001b[0m\u001b[0m\n",
      "\u001b[1;31mAttributeError\u001b[0m: 'DataFrame' object has no attribute 'concat'"
     ]
    }
   ],
   "source": [
    "df = data_am.copy()\n",
    "for data in [data_salary,data_pov,data_life, data_idx, data_build]:\n",
    "    pd.concat(data)\n"
   ]
  },
  {
   "cell_type": "code",
   "execution_count": 32,
   "id": "26770f59",
   "metadata": {},
   "outputs": [
    {
     "data": {
      "text/html": [
       "<div>\n",
       "<style scoped>\n",
       "    .dataframe tbody tr th:only-of-type {\n",
       "        vertical-align: middle;\n",
       "    }\n",
       "\n",
       "    .dataframe tbody tr th {\n",
       "        vertical-align: top;\n",
       "    }\n",
       "\n",
       "    .dataframe thead th {\n",
       "        text-align: right;\n",
       "    }\n",
       "</style>\n",
       "<table border=\"1\" class=\"dataframe\">\n",
       "  <thead>\n",
       "    <tr style=\"text-align: right;\">\n",
       "      <th></th>\n",
       "      <th>Население 2020, чел</th>\n",
       "      <th>2020 г. в % к 2019 г.</th>\n",
       "      <th>Доля бедности 2018,%</th>\n",
       "      <th>Доля бедности 2019,%</th>\n",
       "      <th>Доля бедности 2020,%</th>\n",
       "      <th>ОПЖ, лет</th>\n",
       "      <th>Темп роста денежного дохода, %</th>\n",
       "      <th>Объем жилищного строительства 2020, млн</th>\n",
       "      <th>Ввод жилья в МКД 2020, млн</th>\n",
       "      <th>Ввод жилья населением 2020, млн</th>\n",
       "    </tr>\n",
       "  </thead>\n",
       "  <tbody>\n",
       "    <tr>\n",
       "      <th>Белгородская область</th>\n",
       "      <td>1541259.0</td>\n",
       "      <td>104.5</td>\n",
       "      <td>7.5</td>\n",
       "      <td>7.8</td>\n",
       "      <td>7.2</td>\n",
       "      <td>72.4</td>\n",
       "      <td>NaN</td>\n",
       "      <td>1.1486</td>\n",
       "      <td>0.2136</td>\n",
       "      <td>0.935</td>\n",
       "    </tr>\n",
       "    <tr>\n",
       "      <th>Брянская область</th>\n",
       "      <td>1182682.0</td>\n",
       "      <td>102.2</td>\n",
       "      <td>13.6</td>\n",
       "      <td>13.8</td>\n",
       "      <td>13.8</td>\n",
       "      <td>70.6</td>\n",
       "      <td>NaN</td>\n",
       "      <td>0.4267</td>\n",
       "      <td>0.2515</td>\n",
       "      <td>0.1752</td>\n",
       "    </tr>\n",
       "    <tr>\n",
       "      <th>Владимирская область</th>\n",
       "      <td>1342099.0</td>\n",
       "      <td>102.4</td>\n",
       "      <td>13.1</td>\n",
       "      <td>12.6</td>\n",
       "      <td>12.5</td>\n",
       "      <td>70.0</td>\n",
       "      <td>98.1</td>\n",
       "      <td>0.7262</td>\n",
       "      <td>0.2454</td>\n",
       "      <td>0.4809</td>\n",
       "    </tr>\n",
       "  </tbody>\n",
       "</table>\n",
       "</div>"
      ],
      "text/plain": [
       "                      Население 2020, чел  2020 г. в % к 2019 г.  \\\n",
       "Белгородская область            1541259.0                  104.5   \n",
       "Брянская область                1182682.0                  102.2   \n",
       "Владимирская область            1342099.0                  102.4   \n",
       "\n",
       "                      Доля бедности 2018,%  Доля бедности 2019,%  \\\n",
       "Белгородская область                   7.5                   7.8   \n",
       "Брянская область                      13.6                  13.8   \n",
       "Владимирская область                  13.1                  12.6   \n",
       "\n",
       "                      Доля бедности 2020,%  ОПЖ, лет  \\\n",
       "Белгородская область                   7.2      72.4   \n",
       "Брянская область                      13.8      70.6   \n",
       "Владимирская область                  12.5      70.0   \n",
       "\n",
       "                      Темп роста денежного дохода, %  \\\n",
       "Белгородская область                             NaN   \n",
       "Брянская область                                 NaN   \n",
       "Владимирская область                            98.1   \n",
       "\n",
       "                      Объем жилищного строительства 2020, млн  \\\n",
       "Белгородская область                                   1.1486   \n",
       "Брянская область                                       0.4267   \n",
       "Владимирская область                                   0.7262   \n",
       "\n",
       "                     Ввод жилья в МКД 2020, млн  \\\n",
       "Белгородская область                     0.2136   \n",
       "Брянская область                         0.2515   \n",
       "Владимирская область                     0.2454   \n",
       "\n",
       "                     Ввод жилья населением 2020, млн  \n",
       "Белгородская область                           0.935  \n",
       "Брянская область                              0.1752  \n",
       "Владимирская область                          0.4809  "
      ]
     },
     "execution_count": 32,
     "metadata": {},
     "output_type": "execute_result"
    }
   ],
   "source": [
    "df.head(3)"
   ]
  },
  {
   "cell_type": "code",
   "execution_count": 39,
   "id": "565a6f19",
   "metadata": {},
   "outputs": [
    {
     "name": "stdout",
     "output_type": "stream",
     "text": [
      "<class 'pandas.core.frame.DataFrame'>\n",
      "Index: 84 entries, Белгородская область to Еврейская автономная область\n",
      "Data columns (total 10 columns):\n",
      " #   Column                                   Non-Null Count  Dtype  \n",
      "---  ------                                   --------------  -----  \n",
      " 0   Население 2020, чел                      84 non-null     float64\n",
      " 1   2020 г. в % к 2019 г.                    71 non-null     float64\n",
      " 2   Доля бедности 2018,%                     72 non-null     float64\n",
      " 3   Доля бедности 2019,%                     72 non-null     float64\n",
      " 4   Доля бедности 2020,%                     72 non-null     float64\n",
      " 5   ОПЖ, лет                                 74 non-null     float64\n",
      " 6   Темп роста денежного дохода, %           53 non-null     float64\n",
      " 7   Объем жилищного строительства 2020, млн  71 non-null     float64\n",
      " 8   Ввод жилья в МКД 2020, млн               71 non-null     object \n",
      " 9   Ввод жилья населением 2020, млн          71 non-null     object \n",
      "dtypes: float64(8), object(2)\n",
      "memory usage: 9.3+ KB\n"
     ]
    }
   ],
   "source": [
    "df.info()"
   ]
  },
  {
   "cell_type": "code",
   "execution_count": 56,
   "id": "d691ce52",
   "metadata": {},
   "outputs": [
    {
     "name": "stdout",
     "output_type": "stream",
     "text": [
      "Index(['Белгородская область', 'Брянская область', 'Владимирская область',\n",
      "       'Воронежская область', 'Ивановская область', 'Калужская область',\n",
      "       'Костромская область', 'Курская область', 'Липецкая область',\n",
      "       'Московская область', 'Орловская область', 'Рязанская область',\n",
      "       'Смоленская область', 'Тамбовская область', 'Тверская область',\n",
      "       'Тульская область', 'Ярославская область', 'г. Москва',\n",
      "       'Республика Карелия', 'Республика Коми', 'Архангельская область',\n",
      "       'Архангельская область без Ненецкого автономного округа',\n",
      "       'Вологодская область', 'Калининградская область',\n",
      "       'Ленинградская область', 'Мурманская область', 'Новгородская область',\n",
      "       'Псковская область', 'г.Санкт-Петербург', 'Республика Адыгея',\n",
      "       'Республика Калмыкия', 'Республика Крым', 'Краснодарский край',\n",
      "       'Астраханская область', 'Волгоградская область', 'Ростовская область',\n",
      "       'г. Севастополь', 'Республика Дагестан', 'Республика Ингушетия',\n",
      "       'Кабардино-Балкарская Республика', 'Карачаево-Черкесская Республика',\n",
      "       'Республика Северная Осетия-Алания', 'Чеченская Республика',\n",
      "       'Ставропольский край', 'Республика Башкортостан', 'Республика Марий Эл',\n",
      "       'Республика Мордовия', 'Республика Татарстан', 'Удмуртская Республика',\n",
      "       'Чувашская Республика', 'Пермский край', 'Кировская область',\n",
      "       'Нижегородская область', 'Оренбургская область', 'Пензенская область',\n",
      "       'Самарская область', 'Саратовская область', 'Ульяновская область',\n",
      "       'Курганская область', 'Свердловская область', 'Тюменская область',\n",
      "       'Ханты-Мансийский автономный округ-Югра',\n",
      "       'Тюменская область без автономных округов', 'Челябинская область',\n",
      "       'Республика Алтай', 'Республика Тыва', 'Республика Хакасия',\n",
      "       'Алтайский край', 'Красноярский край', 'Иркутская область',\n",
      "       'Кемеровская область', 'Новосибирская область', 'Омская область',\n",
      "       'Томская область', 'Республика Бурятия', 'Республика Саха (Якутия)',\n",
      "       'Забайкальский край', 'Камчатский край', 'Приморский край',\n",
      "       'Хабаровский край', 'Амурская область', 'Магаданская область',\n",
      "       'Сахалинская область', 'Еврейская автономная область'],\n",
      "      dtype='object')\n"
     ]
    }
   ],
   "source": [
    "print(data_am.index)"
   ]
  },
  {
   "cell_type": "code",
   "execution_count": 55,
   "id": "ba48f396",
   "metadata": {},
   "outputs": [],
   "source": [
    "for idx in data_am.index:\n",
    "    if idx[-1] == ' ':\n",
    "        data_am.rename(index={idx:idx[:-1]}, inplace=True)"
   ]
  },
  {
   "cell_type": "code",
   "execution_count": 57,
   "id": "4903ee7e",
   "metadata": {},
   "outputs": [
    {
     "name": "stdout",
     "output_type": "stream",
     "text": [
      "0\n",
      "Архангельская область (кроме Ненецкого автономного округа)\n",
      "г.Севастополь\n",
      "Республика Северная Осетия - Алания\n",
      "Hижегородская область\n",
      "Ханты-Мансийский авт.округ - Югра\n",
      "Тюменская область (кроме Ханты-Мансийского автономного округа - Югры и Ямало-Ненецкого автономного округа)\n",
      "Кемеровская область - Кузбасс\n",
      "Еврейская авт.область\n",
      "1\n",
      "Курская область \n",
      "Московская область \n",
      "Ярославская область \n",
      "Архангельская область без авт. округа\n",
      "г. Санкт-Петербург\n",
      "Республика Северная Осетия - Алания\n",
      "Чеченская Республика \n",
      "Тюменская область без авт. округов \n",
      "2\n",
      "Архангельская область без автономии\n",
      "г. Санкт-Петербург\n",
      "Республика Северная Осетия – Алания\n",
      "Ханты-Мансийский авт. округ – Югра\n",
      "Тюменская область без автономий\n",
      "Кемеровская область – Кузбасс\n",
      "3\n",
      "Белгородская область  \n",
      "Брянская область \n",
      "Костромская область \n",
      "Тамбовская область \n",
      "Ярославская область   \n",
      "г.Москва\n",
      "Архангельская область   \n",
      "Архангельская область без авт.округа\n",
      "Ленинградская область \n",
      "Мурманская область   \n",
      "Псковская область   \n",
      "Республика Адыгея  \n",
      "Ростовская область \n",
      "г.Севастополь\n",
      "Кабардино-Балкарская  Республика\n",
      "Карачаево-Черкесская  Республика\n",
      "Республика  Северная Осетия - Алания\n",
      "Республика Марий Эл  \n",
      "Чувашская Республика \n",
      "Нижегородская область \n",
      "Пензенская область \n",
      "Тюменская область   \n",
      "    Ханты-Мансийский авт.округ\n",
      "Тюменская область без авт.округов\n",
      "Красноярский край   \n",
      "Камчатский край   \n",
      "Хабаровский край \n",
      "Магаданская область \n",
      "Сахалинская область   \n",
      "Еврейская  авт.область\n",
      "4\n",
      "г.Москва\n",
      "Архангельская область (кроме Ненецкого авт.округа)\n",
      "Республика Адыгея (Адыгея)\n",
      "г.Севастополь\n",
      "Чувашская Республика \n",
      "Ханты-Мансийский авт. округ-Югра\n",
      "Тюменская область (без авт. округов)\n",
      "Еврейская авт. область\n"
     ]
    }
   ],
   "source": [
    "for i, data in enumerate([data_salary,data_pov,data_life, data_idx, data_build]):\n",
    "    print(i)\n",
    "    for el in data.index:\n",
    "        if el not in data_am.index:\n",
    "            print(el)\n"
   ]
  },
  {
   "cell_type": "code",
   "execution_count": null,
   "id": "e7166c7e",
   "metadata": {},
   "outputs": [],
   "source": []
  }
 ],
 "metadata": {
  "kernelspec": {
   "display_name": "Python 3",
   "language": "python",
   "name": "python3"
  },
  "language_info": {
   "codemirror_mode": {
    "name": "ipython",
    "version": 3
   },
   "file_extension": ".py",
   "mimetype": "text/x-python",
   "name": "python",
   "nbconvert_exporter": "python",
   "pygments_lexer": "ipython3",
   "version": "3.8.8"
  },
  "toc": {
   "base_numbering": 1,
   "nav_menu": {},
   "number_sections": true,
   "sideBar": true,
   "skip_h1_title": false,
   "title_cell": "Table of Contents",
   "title_sidebar": "Contents",
   "toc_cell": false,
   "toc_position": {},
   "toc_section_display": true,
   "toc_window_display": false
  }
 },
 "nbformat": 4,
 "nbformat_minor": 5
}
